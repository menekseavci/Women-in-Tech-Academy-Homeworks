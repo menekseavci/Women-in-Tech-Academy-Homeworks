{
 "cells": [
  {
   "cell_type": "markdown",
   "metadata": {},
   "source": [
    "**Kayıp sayıyı bulmak**\n",
    "\n",
    "* 0-100 aralığında list_memory adlı bir liste oluşturuyoruz.\n",
    "* random ve pop fonksiyonu ile random bir indeks oluşturup o indeksteki sayıyı siliyoruz.\n",
    "* liste sıralı olduğu için for range döngüsündeki i indeksindeki değer i değerine eşit değilse kayıp sayımızı bulmuş oluyoruz."
   ]
  },
  {
   "cell_type": "code",
   "execution_count": 1,
   "metadata": {},
   "outputs": [
    {
     "name": "stdout",
     "output_type": "stream",
     "text": [
      "75\n"
     ]
    }
   ],
   "source": [
    "import random \n",
    "\n",
    "list_memory = list(range(0,101))\n",
    "\n",
    "x = random.randint(0,100)\n",
    "list_memory.pop(x)\n",
    "\n",
    "for i in range(0, 101):\n",
    "    if i == list_memory[i]:\n",
    "        continue\n",
    "    else:\n",
    "        print(i)\n",
    "        break"
   ]
  }
 ],
 "metadata": {
  "kernelspec": {
   "display_name": "Python 3.9.6 64-bit",
   "language": "python",
   "name": "python3"
  },
  "language_info": {
   "codemirror_mode": {
    "name": "ipython",
    "version": 3
   },
   "file_extension": ".py",
   "mimetype": "text/x-python",
   "name": "python",
   "nbconvert_exporter": "python",
   "pygments_lexer": "ipython3",
   "version": "3.9.6"
  },
  "orig_nbformat": 4,
  "vscode": {
   "interpreter": {
    "hash": "d148b176bda426fb4b50001d6273c0a18f2bf05b5320f9456b0d68b8d6f9a53f"
   }
  }
 },
 "nbformat": 4,
 "nbformat_minor": 2
}
