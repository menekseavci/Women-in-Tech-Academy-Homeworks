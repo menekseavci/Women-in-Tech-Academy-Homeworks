{
 "cells": [
  {
   "cell_type": "markdown",
   "metadata": {},
   "source": [
    "Sayı Tahmin Oyunu\n",
    "* Random modülü ile bir sayı tutunuz\n",
    "* guess adında bir fonksiyon yazılacak\n",
    "* input ile kullanıcıdan tahminde bulunması istenip ardından yönlendirilecek"
   ]
  },
  {
   "cell_type": "code",
   "execution_count": 2,
   "metadata": {},
   "outputs": [
    {
     "name": "stdout",
     "output_type": "stream",
     "text": [
      "Daha büyük bir tahminde bulununuz\n",
      "Daha büyük bir tahminde bulununuz\n",
      "Daha büyük bir tahminde bulununuz\n",
      "Daha büyük bir tahminde bulununuz\n",
      "Daha büyük bir tahminde bulununuz\n",
      "Tahminizi küçültünüz\n",
      "Tahminizi küçültünüz\n",
      "Daha büyük bir tahminde bulununuz\n",
      "Daha büyük bir tahminde bulununuz\n",
      "Daha büyük bir tahminde bulununuz\n",
      "Tahminizi küçültünüz\n",
      "Tahminizi küçültünüz\n",
      "Tahminizi küçültünüz\n",
      "Tahminizi küçültünüz\n",
      "Tahminizi küçültünüz\n",
      "Tahminizi küçültünüz\n",
      "Tahminizi küçültünüz\n",
      "Tahminizi küçültünüz\n",
      "Tahminizi küçültünüz\n",
      "Daha büyük bir tahminde bulununuz\n",
      "Daha büyük bir tahminde bulununuz\n",
      "Daha büyük bir tahminde bulununuz\n",
      "Tebrikler doğru tahminde bulundunuz.\n"
     ]
    }
   ],
   "source": [
    "from random import randint\n",
    "\n",
    "def guess(number):\n",
    "    user_number = int(input(\"Bir tahminde bulununuz:\"))\n",
    "    while number != user_number:\n",
    "        if number < user_number:\n",
    "            print(\"Tahminizi küçültünüz\")\n",
    "        else:\n",
    "            print(\"Daha büyük bir tahminde bulununuz\")\n",
    "        user_number = int(input(\"Lütfen yeniden bir tahminde bulununuz!:\"))\n",
    "    else:\n",
    "        print(\"Tebrikler doğru tahminde bulundunuz.\")\n",
    "\n",
    "guess(randint(50,150))"
   ]
  }
 ],
 "metadata": {
  "kernelspec": {
   "display_name": "Python 3.9.6 64-bit",
   "language": "python",
   "name": "python3"
  },
  "language_info": {
   "codemirror_mode": {
    "name": "ipython",
    "version": 3
   },
   "file_extension": ".py",
   "mimetype": "text/x-python",
   "name": "python",
   "nbconvert_exporter": "python",
   "pygments_lexer": "ipython3",
   "version": "3.9.6"
  },
  "orig_nbformat": 4,
  "vscode": {
   "interpreter": {
    "hash": "d148b176bda426fb4b50001d6273c0a18f2bf05b5320f9456b0d68b8d6f9a53f"
   }
  }
 },
 "nbformat": 4,
 "nbformat_minor": 2
}
