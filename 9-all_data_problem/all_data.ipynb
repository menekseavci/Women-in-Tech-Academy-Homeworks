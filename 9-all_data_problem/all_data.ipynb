{
 "cells": [
  {
   "cell_type": "code",
   "execution_count": 52,
   "metadata": {},
   "outputs": [],
   "source": [
    "import re\n",
    "with open(\"all_data.txt\", \"r+\", encoding = \"utf-8\") as file:\n",
    "    #Üzerinde işlem yapacak bir text oluşturmak\n",
    "    file.seek(0)\n",
    "    new_file = file.read()\n",
    "\n",
    "    #Büyük harfleri küçük yapmak\n",
    "    new_file = new_file.lower()\n",
    "\n",
    "    #Türkçe Karakterlerden Kurtulmak\n",
    "    new_file = new_file.replace(\"ş\", \"s\").replace(\"ğ\", \"g\").replace(\"ü\", \"u\").replace(\"ö\", \"o\").replace(\"ç\", \"c\").replace(\"ı\", \"i\")\n",
    "\n",
    "    #Noktalama işaretlerini Kaldırmak\n",
    "    new_file = re.sub(r'[^\\w\\s]', '', new_file)\n",
    "\n",
    "    with open(\"new_data.txt\", \"w+\", encoding = \"utf-8\") as new_data:\n",
    "        new_data.write(new_file)\n",
    "        lines = new_data.readlines()\n",
    "\n",
    "        #Boş satırları silme\n",
    "        for line in lines:\n",
    "          if line == \"\\n\":\n",
    "            lines.remove(line)\n",
    "\n",
    "        #Duplicate satırları silmek\n",
    "        unique_lines = []\n",
    "        for line in lines:\n",
    "          if line in unique_lines:\n",
    "            continue\n",
    "          else:\n",
    "            unique_lines.append(line)\n",
    "        \n",
    "        new_data.writelines(unique_lines)\n",
    "\n",
    "\n",
    "\n",
    "\n",
    "    "
   ]
  },
  {
   "cell_type": "code",
   "execution_count": 44,
   "metadata": {},
   "outputs": [
    {
     "name": "stdout",
     "output_type": "stream",
     "text": [
      "['Menekşe', 'avcı', '123']\n"
     ]
    }
   ],
   "source": [
    "list1 = [\"Menekşe.avcı\", \"123\"]\n",
    "for i in range(len(list1)):\n",
    "    if \".\" in list1[i] :\n",
    "        a, *b = list1[i].split(\".\")\n",
    "        list1.remove(list1[i])\n",
    "        list1.insert(i, a)\n",
    "        list1.insert(i+1, *b)\n",
    "print(list1)"
   ]
  },
  {
   "cell_type": "code",
   "execution_count": 39,
   "metadata": {},
   "outputs": [
    {
     "name": "stdout",
     "output_type": "stream",
     "text": [
      "{'Menekşe'}\n",
      "['Menekşe']\n"
     ]
    }
   ],
   "source": [
    "list1 = [\"Menekşe\", \"Menekşe\", \"Menekşe\"]\n",
    "\n",
    "list2 = set(list1)\n",
    "\n",
    "print(list2)\n",
    "\n",
    "list1 = list(list2)\n",
    "\n",
    "print(list1)\n"
   ]
  },
  {
   "cell_type": "code",
   "execution_count": 45,
   "metadata": {},
   "outputs": [
    {
     "ename": "ValueError",
     "evalue": "invalid literal for int() with base 10: '1 2 3'",
     "output_type": "error",
     "traceback": [
      "\u001b[1;31m---------------------------------------------------------------------------\u001b[0m",
      "\u001b[1;31mValueError\u001b[0m                                Traceback (most recent call last)",
      "Cell \u001b[1;32mIn [45], line 2\u001b[0m\n\u001b[0;32m      1\u001b[0m x \u001b[39m=\u001b[39m \u001b[39m\"\u001b[39m\u001b[39m1 2 3\u001b[39m\u001b[39m\"\u001b[39m\n\u001b[1;32m----> 2\u001b[0m \u001b[39mprint\u001b[39m(\u001b[39mint\u001b[39;49m(x))\n",
      "\u001b[1;31mValueError\u001b[0m: invalid literal for int() with base 10: '1 2 3'"
     ]
    }
   ],
   "source": [
    "x = \"1 2 3\"\n",
    "print(int(x))"
   ]
  },
  {
   "cell_type": "code",
   "execution_count": 47,
   "metadata": {},
   "outputs": [
    {
     "name": "stdout",
     "output_type": "stream",
     "text": [
      "['Beni', 'anlamadın', 'ya, ben ona yanıyorum.']\n"
     ]
    }
   ],
   "source": [
    "import re\n",
    "txt = \"Beni anlamadın ya, ben ona yanıyorum.\"\n",
    "x = re.split(\"\\s\", txt, 2)\n",
    "print(x)\n"
   ]
  },
  {
   "cell_type": "code",
   "execution_count": null,
   "metadata": {},
   "outputs": [],
   "source": [
    "import re\n",
    "with open(\"/content/all_data.txt\", \"r+\", encoding = \"utf-8\") as file:\n",
    "  lines = file.readlines()\n",
    "\n",
    "  #Her satırda bir cümle olmasını sağlamak\n",
    "  for i in range(len(lines)):\n",
    "    if \".\" in lines[i]:\n",
    "      a, *b = lines[i].split(\".\")\n",
    "      lines.remove(lines[i])\n",
    "      lines.insert(i, a)\n",
    "      lines.insert(i+1, b)\n",
    "\n",
    "  #Boş satırları silme\n",
    "  for line in lines:\n",
    "    if line == \"\\n\":\n",
    "      lines.remove(line)\n",
    "\n",
    "  #Duplicate satırları silmek\n",
    "  unique_lines = []\n",
    "  for line in lines:\n",
    "    if line in unique_lines:\n",
    "      continue\n",
    "    else:\n",
    "      unique_lines.append(line)\n",
    "\n",
    "  #Eğer bir satır sadece sayıdan oluşuyorsa yeni bir dosyaya eklemek\n",
    "  with open(\"sayilar.txt\", \"a\", encoding = \"utf-8\") as numbers:\n",
    "    for line in lines:\n",
    "      try:\n",
    "        add_num = int(num[:(len(num)-2)])\n",
    "        numbers.write(add_num)\n",
    "      except:\n",
    "        continue\n",
    "          \n",
    "  #Yapılan işlemleri satır satır yeni dosyaya işlemek\n",
    "  with open(\"new_data.txt\", \"w\", encoding = \"utf-8\") as n_file:\n",
    "    n_file.writelines(unique_lines)\n",
    "  \n",
    "    #Büyük harfleri küçük yapmak\n",
    "    n_file.seek(0)\n",
    "    new_file = n_file.read()\n",
    "    new_file = n_file.lower()\n",
    "\n",
    "    #Türkçe Karakterlerden Kurtulmak\n",
    "    new_file.seek(0)\n",
    "    new_file = n_file.replace(\"ş\", \"s\").replace(\"ğ\", \"g\").replace(\"ü\", \"u\").replace(\"ö\", \"o\").replace(\"ç\", \"c\").replace(\"ı\", \"i\")\n",
    "\n",
    "    #Noktalama işaretlerini kaldırmak\n",
    "    new_file.seek(0)\n",
    "    new_file = re.sub(r'[^\\w\\s]', '', n_file)"
   ]
  }
 ],
 "metadata": {
  "kernelspec": {
   "display_name": "Python 3.9.6 64-bit",
   "language": "python",
   "name": "python3"
  },
  "language_info": {
   "codemirror_mode": {
    "name": "ipython",
    "version": 3
   },
   "file_extension": ".py",
   "mimetype": "text/x-python",
   "name": "python",
   "nbconvert_exporter": "python",
   "pygments_lexer": "ipython3",
   "version": "3.9.6"
  },
  "orig_nbformat": 4,
  "vscode": {
   "interpreter": {
    "hash": "d148b176bda426fb4b50001d6273c0a18f2bf05b5320f9456b0d68b8d6f9a53f"
   }
  }
 },
 "nbformat": 4,
 "nbformat_minor": 2
}
