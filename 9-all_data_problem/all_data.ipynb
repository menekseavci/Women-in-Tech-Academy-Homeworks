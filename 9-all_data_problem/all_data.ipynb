{
 "cells": [
  {
   "cell_type": "code",
   "execution_count": 54,
   "metadata": {},
   "outputs": [],
   "source": [
    "import re\n",
    "with open(\"all_data.txt\", \"r+\", encoding = \"utf-8\") as file:\n",
    "    #Üzerinde işlem yapacak bir text oluşturmak\n",
    "    file.seek(0)\n",
    "    new_file = file.read()\n",
    "\n",
    "    #Büyük harfleri küçük yapmak\n",
    "    new_file = new_file.lower()\n",
    "\n",
    "    #Türkçe Karakterlerden Kurtulmak\n",
    "    new_file = new_file.replace(\"ş\", \"s\").replace(\"ğ\", \"g\").replace(\"ü\", \"u\").replace(\"ö\", \"o\").replace(\"ç\", \"c\").replace(\"ı\", \"i\")\n",
    "\n",
    "    #Noktalama işaretlerini Kaldırmak\n",
    "    new_file = re.sub(r'[^\\w\\s]', '', new_file)\n",
    "\n",
    "    with open(\"new_data.txt\", \"w+\", encoding = \"utf-8\") as new_data:\n",
    "        new_data.write(new_file)\n",
    "        lines = new_data.readlines()\n",
    "\n",
    "        #Boş satırları silme\n",
    "        for line in lines:\n",
    "          if line == \"\\n\":\n",
    "            lines.remove(line)\n",
    "\n",
    "        #Duplicate satırları silmek\n",
    "        unique_lines = []\n",
    "        for line in lines:\n",
    "          if line in unique_lines:\n",
    "            continue\n",
    "          else:\n",
    "            unique_lines.append(line)\n",
    "        \n",
    "        new_data.writelines(unique_lines)\n",
    "\n",
    "\n",
    "\n",
    "\n",
    "    "
   ]
  }
 ],
 "metadata": {
  "kernelspec": {
   "display_name": "Python 3.9.6 64-bit",
   "language": "python",
   "name": "python3"
  },
  "language_info": {
   "codemirror_mode": {
    "name": "ipython",
    "version": 3
   },
   "file_extension": ".py",
   "mimetype": "text/x-python",
   "name": "python",
   "nbconvert_exporter": "python",
   "pygments_lexer": "ipython3",
   "version": "3.9.6"
  },
  "orig_nbformat": 4,
  "vscode": {
   "interpreter": {
    "hash": "d148b176bda426fb4b50001d6273c0a18f2bf05b5320f9456b0d68b8d6f9a53f"
   }
  }
 },
 "nbformat": 4,
 "nbformat_minor": 2
}
