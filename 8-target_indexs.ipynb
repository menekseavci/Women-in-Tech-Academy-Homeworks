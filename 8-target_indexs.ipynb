{
 "cells": [
  {
   "cell_type": "markdown",
   "metadata": {},
   "source": [
    "**Hedef sayının hangi iki sayının toplamı olduğunu bulmak, sayı indekslerini bulmak**\n",
    "* list_example adında 1-100 aralığındaki değerleri içeren bir liste tanımladım ve random.shuffle() fonksiyonu liste listeyi elemanlarının sırasını karıştırdım.\n",
    "* target değerini input olarak aldım.\n",
    "* 2 tane for döngüsü ile hangi 2 sayının toplamının target değerine eşit olduğunu bulan bir algoritma yazdım.\n"
   ]
  },
  {
   "cell_type": "code",
   "execution_count": 1,
   "metadata": {},
   "outputs": [
    {
     "name": "stdout",
     "output_type": "stream",
     "text": [
      "Target: 11 - Numbers: 2 and 9\n",
      "[16, 52]\n",
      "Target: 11 - Numbers: 8 and 3\n",
      "[27, 83]\n",
      "Target: 11 - Numbers: 5 and 6\n",
      "[40, 61]\n",
      "Target: 11 - Numbers: 7 and 4\n",
      "[60, 64]\n",
      "Target: 11 - Numbers: 1 and 10\n",
      "[63, 94]\n"
     ]
    }
   ],
   "source": [
    "import random\n",
    "\n",
    "list_example = list(range(1, 101))\n",
    "random.shuffle(list_example)\n",
    "target = int(input(\"Enter the target number:\"))\n",
    "\n",
    "for i in range(1, len(list_example)):\n",
    "    for j in range(i + 1, len(list_example)):\n",
    "        if list_example[i] + list_example[j] == target:\n",
    "            print(f\"Target: {target} - Numbers: {list_example[i]} and {list_example[j]}\")\n",
    "            new_list = [i, j]\n",
    "            print(new_list)"
   ]
  }
 ],
 "metadata": {
  "kernelspec": {
   "display_name": "Python 3.9.6 64-bit",
   "language": "python",
   "name": "python3"
  },
  "language_info": {
   "codemirror_mode": {
    "name": "ipython",
    "version": 3
   },
   "file_extension": ".py",
   "mimetype": "text/x-python",
   "name": "python",
   "nbconvert_exporter": "python",
   "pygments_lexer": "ipython3",
   "version": "3.9.6"
  },
  "orig_nbformat": 4,
  "vscode": {
   "interpreter": {
    "hash": "d148b176bda426fb4b50001d6273c0a18f2bf05b5320f9456b0d68b8d6f9a53f"
   }
  }
 },
 "nbformat": 4,
 "nbformat_minor": 2
}
