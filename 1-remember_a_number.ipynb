{
 "cells": [
  {
   "cell_type": "code",
   "execution_count": 1,
   "metadata": {},
   "outputs": [
    {
     "name": "stdout",
     "output_type": "stream",
     "text": [
      "5 sayısı gerçek sayıdan küçüktür, tahminizi arttırınız.\n",
      "6 sayısı gerçek sayıdan küçüktür, tahminizi arttırınız.\n",
      "Doğru bildiniz\n"
     ]
    }
   ],
   "source": [
    "import random\n",
    "\n",
    "x = random.randint(1,10)\n",
    "\n",
    "while True:\n",
    "    guess = int(input(\"1 ile 10 arasında bir sayı tahmin ediniz:\"))\n",
    "    if guess < x :\n",
    "        print(f\"{guess} sayısı gerçek sayıdan küçüktür, tahminizi arttırınız.\")\n",
    "    elif guess > x :\n",
    "        print(f\"{guess} sayısı gerçek sayıdan büyüktür, tahminizi küçültünüz.\")\n",
    "    else:\n",
    "        print(\"Doğru bildiniz\")\n",
    "        break"
   ]
  }
 ],
 "metadata": {
  "kernelspec": {
   "display_name": "Python 3.9.6 64-bit",
   "language": "python",
   "name": "python3"
  },
  "language_info": {
   "codemirror_mode": {
    "name": "ipython",
    "version": 3
   },
   "file_extension": ".py",
   "mimetype": "text/x-python",
   "name": "python",
   "nbconvert_exporter": "python",
   "pygments_lexer": "ipython3",
   "version": "3.9.6"
  },
  "orig_nbformat": 4,
  "vscode": {
   "interpreter": {
    "hash": "d148b176bda426fb4b50001d6273c0a18f2bf05b5320f9456b0d68b8d6f9a53f"
   }
  }
 },
 "nbformat": 4,
 "nbformat_minor": 2
}
