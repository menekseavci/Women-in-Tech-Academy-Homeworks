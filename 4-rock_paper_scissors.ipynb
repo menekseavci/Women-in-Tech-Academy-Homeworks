{
 "cells": [
  {
   "cell_type": "markdown",
   "metadata": {},
   "source": [
    "Taş-Kağıt-Makas Oyunu\n",
    "* Taş makası yener (Taş = 1)\n",
    "* Kağıt taşı yener (Kağıt = 2)\n",
    "* Makas kağıdı yener (Makas = 3)"
   ]
  },
  {
   "cell_type": "code",
   "execution_count": 1,
   "metadata": {},
   "outputs": [
    {
     "name": "stdout",
     "output_type": "stream",
     "text": [
      "Taş Kağıt Makas Oyununa Hoşgeldiniz\n",
      "-------------------------------------\n",
      "\n",
      "1- Taş\n",
      "2- Kağıt\n",
      "3- Makas\n",
      " Oyundan çıkmak için bu değerler dışında bir değer giriniz\n",
      "Bilgisayarın Seçimi: 3\n",
      "\n",
      "Kazanan : Kullanıcı\n",
      "\n",
      "1- Taş\n",
      "2- Kağıt\n",
      "3- Makas\n",
      " Oyundan çıkmak için bu değerler dışında bir değer giriniz\n",
      "Yeniden Oynayınız\n",
      "\n",
      "1- Taş\n",
      "2- Kağıt\n",
      "3- Makas\n",
      " Oyundan çıkmak için bu değerler dışında bir değer giriniz\n",
      "Bilgisayarın Seçimi: 1\n",
      "\n",
      "Kazanan : Kullanıcı\n",
      "\n",
      "1- Taş\n",
      "2- Kağıt\n",
      "3- Makas\n",
      " Oyundan çıkmak için bu değerler dışında bir değer giriniz\n",
      "Yeniden Oynayınız\n",
      "\n",
      "1- Taş\n",
      "2- Kağıt\n",
      "3- Makas\n",
      " Oyundan çıkmak için bu değerler dışında bir değer giriniz\n",
      "Bilgisayarın Seçimi: 3\n",
      "\n",
      "Kazanan : Kullanıcı\n",
      "\n",
      "1- Taş\n",
      "2- Kağıt\n",
      "3- Makas\n",
      " Oyundan çıkmak için bu değerler dışında bir değer giriniz\n",
      "Yeniden Oynayınız\n",
      "\n",
      "1- Taş\n",
      "2- Kağıt\n",
      "3- Makas\n",
      " Oyundan çıkmak için bu değerler dışında bir değer giriniz\n",
      "Kullanıcı Skoru: 300 - Bilgisayar Skoru: 0\n",
      "Kazanan: Kullanıcı\n"
     ]
    }
   ],
   "source": [
    "import random\n",
    "player_score = computer_score = 0\n",
    "computer_choice = 0\n",
    "def print_result(winner = \"Bilgisayar\"):\n",
    "    print(f\"Bilgisayarın Seçimi: {computer_choice}\\n\\nKazanan : {winner}\")\n",
    "    global computer_score, player_score\n",
    "    if winner == \"Bilgisayar\":\n",
    "        computer_score += 100\n",
    "    else:\n",
    "        player_score += 100\n",
    "\n",
    "print(\"Taş Kağıt Makas Oyununa Hoşgeldiniz\\n\" + \"-\"*37)\n",
    "\n",
    "while True:\n",
    "    print(\"\\n1- Taş\\n2- Kağıt\\n3- Makas\\n Oyundan çıkmak için bu değerler dışında bir değer giriniz\")\n",
    "    player_choice = int(input(\"Seçiminizi yapınız:\"))\n",
    "    computer_choice = random.choice([1,2,3])\n",
    "\n",
    "    if player_choice == computer_choice:\n",
    "        print(\"Yeniden Oynayınız\")\n",
    "    elif player_choice == 1:\n",
    "        if computer_choice == 2:\n",
    "            print_result()\n",
    "        elif computer_choice == 3:\n",
    "            print_result(\"Kullanıcı\")\n",
    "    elif player_choice == 2:\n",
    "        if computer_choice == 1:\n",
    "            print_result(\"Kullanıcı\")\n",
    "        elif computer_choice == 3:\n",
    "            print_result()\n",
    "    elif player_choice == 3:\n",
    "        if computer_choice == 1:\n",
    "            print_result()\n",
    "        elif computer_choice == 2:\n",
    "            print_result(\"Kullanıcı\")\n",
    "    else:\n",
    "        break\n",
    "\n",
    "print(f\"Kullanıcı Skoru: {player_score} - Bilgisayar Skoru: {computer_score}\")\n",
    "if player_score < computer_score:\n",
    "    print(\"Kazanan: Bilgisayar\")\n",
    "elif computer_score < player_score:\n",
    "    print(\"Kazanan: Kullanıcı\")\n",
    "else:\n",
    "    print(\"Durum Berabere\")"
   ]
  }
 ],
 "metadata": {
  "kernelspec": {
   "display_name": "Python 3.9.6 64-bit",
   "language": "python",
   "name": "python3"
  },
  "language_info": {
   "codemirror_mode": {
    "name": "ipython",
    "version": 3
   },
   "file_extension": ".py",
   "mimetype": "text/x-python",
   "name": "python",
   "nbconvert_exporter": "python",
   "pygments_lexer": "ipython3",
   "version": "3.9.6"
  },
  "orig_nbformat": 4,
  "vscode": {
   "interpreter": {
    "hash": "d148b176bda426fb4b50001d6273c0a18f2bf05b5320f9456b0d68b8d6f9a53f"
   }
  }
 },
 "nbformat": 4,
 "nbformat_minor": 2
}
