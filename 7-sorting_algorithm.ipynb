{
 "cells": [
  {
   "cell_type": "markdown",
   "metadata": {},
   "source": [
    "**Sıralama Algoritması**\n",
    "\n",
    "* Öncelikle ilk adımda içinde aynı değerleri barındırmayan 0-100 aralığında random karışık sıralı 20 değerden oluşan bir liste tanımladım.\n",
    "* sorting_algorithm(list) fonksiyonu ile oluşturduğum listeyi argüman olarak alacağımı belirttim ve argüman olarak alınacak listeyi iç içe 2 for döngüsüne soktum.\n",
    "* İlk for döngüsünde sırayla liste elemanları alınıyor ve diğer for döngüsünde kalan liste elemanları ile karşılatırılıyor(Bu yüzden i + 1)\n",
    "* Son olarak eğer bu eleman herhangi bir elemandan büyükse iki eleman yer değiştiyor (list[i], list[j] = list[j], list[i])."
   ]
  },
  {
   "cell_type": "code",
   "execution_count": 1,
   "metadata": {},
   "outputs": [
    {
     "data": {
      "text/plain": [
       "[1, 3, 6, 7, 15, 18, 20, 28, 34, 36, 43, 48, 64, 66, 74, 82, 83, 84]"
      ]
     },
     "execution_count": 1,
     "metadata": {},
     "output_type": "execute_result"
    }
   ],
   "source": [
    "import random\n",
    "\n",
    "list_example = []\n",
    "for i in range(0, 20):\n",
    "    x = random.randint(0, 100)\n",
    "    if x in list_example:\n",
    "        continue\n",
    "    else:\n",
    "        list_example.append(x)\n",
    "\n",
    "def sorting_algorithm(list):\n",
    "    for i in range(0, len(list)):\n",
    "        for j in range(i + 1, len(list)):\n",
    "            if list[i] > list[j]:\n",
    "                list[i], list[j] = list[j], list[i]\n",
    "            else:\n",
    "                continue\n",
    "    return list\n",
    "\n",
    "sorting_algorithm(list_example)"
   ]
  }
 ],
 "metadata": {
  "kernelspec": {
   "display_name": "Python 3.9.6 64-bit",
   "language": "python",
   "name": "python3"
  },
  "language_info": {
   "codemirror_mode": {
    "name": "ipython",
    "version": 3
   },
   "file_extension": ".py",
   "mimetype": "text/x-python",
   "name": "python",
   "nbconvert_exporter": "python",
   "pygments_lexer": "ipython3",
   "version": "3.9.6"
  },
  "orig_nbformat": 4,
  "vscode": {
   "interpreter": {
    "hash": "d148b176bda426fb4b50001d6273c0a18f2bf05b5320f9456b0d68b8d6f9a53f"
   }
  }
 },
 "nbformat": 4,
 "nbformat_minor": 2
}
