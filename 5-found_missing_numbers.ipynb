{
 "cells": [
  {
   "cell_type": "markdown",
   "metadata": {},
   "source": [
    "**Belirli bir aralıktaki eksik sayıları bulmak**\n",
    "\n",
    "* definition_list() fonksiyonu ile 0-100 aralığında karmaşık sıralanmış bir liste oluşturuyoruz.\n",
    "* missing_list() fonksiyonu ile random modülünü kullnarak random indexler atıyor ve random sayıda elemanı listeden siliyoruz.\n",
    "* find_missing_list() fonksiyonunda range fonksiyonu yardımı ile 0-100 aralıktaki sayıların listede olup olmadığını kontrol ediyor, tekrar kontrol etmemek için eksik sayıları listeye geri ekliyoruz aynı zamanda eksik sayıları barındıran başka bir liste oluşturuyoruz."
   ]
  },
  {
   "cell_type": "code",
   "execution_count": 2,
   "metadata": {},
   "outputs": [
    {
     "name": "stdout",
     "output_type": "stream",
     "text": [
      "19 adet sayı eksiktir. Eksik olan sayılar: [4, 5, 10, 12, 13, 17, 27, 31, 34, 35, 37, 38, 43, 47, 59, 62, 63, 66, 89]\n"
     ]
    }
   ],
   "source": [
    "import random\n",
    "\n",
    "full_list = []\n",
    "missing_number = []\n",
    "\n",
    "def definition_list():\n",
    "    for i in range(101):\n",
    "        full_list.append(i)\n",
    "    random.shuffle(full_list)\n",
    "\n",
    "def missing_list():\n",
    "    num_miss = random.randint(1, 50)\n",
    "    while (100 - num_miss) <= len(full_list):\n",
    "        x = random.randint(0, (len(full_list)-1))\n",
    "        full_list.pop(x)\n",
    "\n",
    "def find_missing_number():\n",
    "    for j in range (0, 101):\n",
    "        if j not in full_list:\n",
    "            full_list.append(j)\n",
    "            missing_number.append(j)\n",
    "        else:\n",
    "            continue\n",
    "    missing_number.sort()\n",
    "\n",
    "definition_list()\n",
    "missing_list()\n",
    "find_missing_number()\n",
    "print(f\"{len(missing_number)} adet sayı eksiktir. Eksik olan sayılar:\", missing_number)"
   ]
  },
  {
   "cell_type": "code",
   "execution_count": null,
   "metadata": {},
   "outputs": [],
   "source": []
  }
 ],
 "metadata": {
  "kernelspec": {
   "display_name": "Python 3.9.6 64-bit",
   "language": "python",
   "name": "python3"
  },
  "language_info": {
   "codemirror_mode": {
    "name": "ipython",
    "version": 3
   },
   "file_extension": ".py",
   "mimetype": "text/x-python",
   "name": "python",
   "nbconvert_exporter": "python",
   "pygments_lexer": "ipython3",
   "version": "3.9.6"
  },
  "orig_nbformat": 4,
  "vscode": {
   "interpreter": {
    "hash": "d148b176bda426fb4b50001d6273c0a18f2bf05b5320f9456b0d68b8d6f9a53f"
   }
  }
 },
 "nbformat": 4,
 "nbformat_minor": 2
}
