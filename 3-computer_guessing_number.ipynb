{
 "cells": [
  {
   "cell_type": "markdown",
   "metadata": {},
   "source": [
    "Bilgisayar Tahmin Oyunu\n",
    "\n",
    "* İlk olarak random modülünü çalıştırılır bu sayede bilgisayarın tahminlerde bulunması sağlanır.\n",
    "* İkinci olarak bir fonksiyon oluşturulur ve aklımızdan tutacağımız sayı için bir parametre belirlenir.\n",
    "* Son olarak tanımladığımız fonksiyon yardımıyla bilgisayarın random olarak tahmin ettiği sayılar yönlendirilir."
   ]
  },
  {
   "cell_type": "code",
   "execution_count": 1,
   "metadata": {},
   "outputs": [
    {
     "name": "stdout",
     "output_type": "stream",
     "text": [
      "Tebrikler! Doğru tahmin\n"
     ]
    }
   ],
   "source": [
    "import random\n",
    "\n",
    "def computer_guess(x):\n",
    "    start = int(input(\"Aklından tuttuğun sayı kaç ile kaç arasında?\"))\n",
    "    end = int(input(\"Aklından tuttuğun sayı kaç ile kaç arasında?\"))\n",
    "    result = \"\"\n",
    "    while result != \"d\" :\n",
    "        guess = random.randint(start, end)\n",
    "        result = input(f\"{guess} değeri aklından tuttuğun değerden büyükse (b) küçükse (k), doğruysa (d)\").lower()\n",
    "        if result == \"b\":\n",
    "            end = guess -1\n",
    "        elif result == \"k\":\n",
    "            start = guess + 1\n",
    "\n",
    "    print(\"Tebrikler! Doğru tahmin\")\n",
    "\n",
    "\n",
    "computer_guess(32)"
   ]
  }
 ],
 "metadata": {
  "kernelspec": {
   "display_name": "Python 3.9.6 64-bit",
   "language": "python",
   "name": "python3"
  },
  "language_info": {
   "codemirror_mode": {
    "name": "ipython",
    "version": 3
   },
   "file_extension": ".py",
   "mimetype": "text/x-python",
   "name": "python",
   "nbconvert_exporter": "python",
   "pygments_lexer": "ipython3",
   "version": "3.9.6"
  },
  "orig_nbformat": 4,
  "vscode": {
   "interpreter": {
    "hash": "d148b176bda426fb4b50001d6273c0a18f2bf05b5320f9456b0d68b8d6f9a53f"
   }
  }
 },
 "nbformat": 4,
 "nbformat_minor": 2
}
